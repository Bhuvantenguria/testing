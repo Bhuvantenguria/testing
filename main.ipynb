# This filter straightens all almost straight curves. It doesn't remove them, just straightens them
class LineFilter(Filter):
    def is_straight_line(self, curve, threshold=0.3):
        x = np.array([p[0] for p in curve]).reshape(-1, 1)
        y = np.array([p[1] for p in curve]).reshape(-1, 1)
        model = LinearRegression().fit(x, y)
        y_pred = model.predict(x)
        r2 = r2_score(y, y_pred)
        return r2 >= threshold
    
    def fitline(self, curve, image, symmImage):
        xmax, xmin, ymax, ymin = np.argmax(curve[:, 0]), np.argmin(curve[:,0]), np.argmax(curve[:, 1]), np.argmin(curve[:,1])
        color = getRandomColor()
        if curve[xmax, 0] - curve[xmin, 0] >= curve[ymax, 1] - curve[ymin, 1]:
            cv2.line(image, (int(curve[xmax, 0]), int(curve[xmax, 1])), (int(curve[xmin, 0]), int(curve[xmin, 1])), color, 2)
            cv2.line(symmImage, (int(curve[xmax, 0]), int(curve[xmax, 1])), (int(curve[xmin, 0]), int(curve[xmin, 1])), color, 2)
        else :
            cv2.line(image, (int(curve[ymax, 0]), int(curve[ymax, 1])), (int(curve[ymin, 0]), int(curve[ymin, 1])), color, 2)
            cv2.line(symmImage, (int(curve[ymax, 0]), int(curve[ymax, 1])), (int(curve[ymin, 0]), int(curve[ymin, 1])), color, 2)
        return image, symmImage
        
    def _call_(self, curves, pointMask, image, symmImage, bboxes):
        newcurves = []
        for curve in curves:
            if self.is_straight_line(curve) : 
                image, symmImage = self.fitline(curve, image, symmImage)
            else :
                newcurves.append(curve)
            
        return newcurves, pointMask, image, symmImage, bboxes
